{
 "cells": [
  {
   "cell_type": "markdown",
   "id": "65d191a1",
   "metadata": {},
   "source": [
    "### Movie Sentiment Analysis\n",
    "\n",
    "- In this Exercise, you are going to classify whether a given movie review is positive or negative.\n",
    "- you are going to use Bag of words for pre-processing the text and apply different classification algorithms.\n",
    "- Sklearn CountVectorizer has the inbuilt implementations for Bag of Words.\n"
   ]
  },
  {
   "cell_type": "code",
   "execution_count": 2,
   "id": "23466eaa",
   "metadata": {},
   "outputs": [],
   "source": [
    "#Import necessary libraries\n",
    "\n",
    "import pandas as pd\n",
    "import numpy as np\n",
    "from sklearn.model_selection import train_test_split\n",
    "from sklearn.feature_extraction.text import CountVectorizer\n",
    "from sklearn.ensemble import RandomForestClassifier\n",
    "from  sklearn.neighbors import KNeighborsClassifier\n",
    "from sklearn.naive_bayes import MultinomialNB\n",
    "from sklearn.pipeline import Pipeline\n",
    "from sklearn.metrics import classification_report"
   ]
  },
  {
   "cell_type": "markdown",
   "id": "c4ea2026",
   "metadata": {},
   "source": [
    "### Dataset: IMDB Dataset\n",
    "\n",
    "Credits: https://www.kaggle.com/datasets/lakshmi25npathi/imdb-dataset-of-50k-movie-reviews?resource=download\n",
    "\n",
    "This data consists of two columns. - review - sentiment\n",
    "Reviews are the statements given by users after watching the movie.\n",
    "sentiment feature tells whether the given review is positive or negative."
   ]
  },
  {
   "cell_type": "code",
   "execution_count": 3,
   "id": "9992af1d",
   "metadata": {},
   "outputs": [],
   "source": [
    "#read the data provided in the same directory with name 'movies_sentiment_data.csv' and store it in df variable\n",
    "df = pd.read_csv(\"movies_sentiment_data.csv\")"
   ]
  },
  {
   "cell_type": "code",
   "execution_count": 4,
   "id": "14f93c2d",
   "metadata": {},
   "outputs": [
    {
     "data": {
      "text/plain": [
       "(19000, 2)"
      ]
     },
     "execution_count": 4,
     "metadata": {},
     "output_type": "execute_result"
    }
   ],
   "source": [
    "#print the shape of the data\n",
    "\n",
    "df.shape\n",
    "\n",
    "\n"
   ]
  },
  {
   "cell_type": "code",
   "execution_count": 5,
   "id": "20d0406c",
   "metadata": {},
   "outputs": [
    {
     "data": {
      "text/html": [
       "<div>\n",
       "<style scoped>\n",
       "    .dataframe tbody tr th:only-of-type {\n",
       "        vertical-align: middle;\n",
       "    }\n",
       "\n",
       "    .dataframe tbody tr th {\n",
       "        vertical-align: top;\n",
       "    }\n",
       "\n",
       "    .dataframe thead th {\n",
       "        text-align: right;\n",
       "    }\n",
       "</style>\n",
       "<table border=\"1\" class=\"dataframe\">\n",
       "  <thead>\n",
       "    <tr style=\"text-align: right;\">\n",
       "      <th></th>\n",
       "      <th>review</th>\n",
       "      <th>sentiment</th>\n",
       "    </tr>\n",
       "  </thead>\n",
       "  <tbody>\n",
       "    <tr>\n",
       "      <th>0</th>\n",
       "      <td>I first saw Jake Gyllenhaal in Jarhead (2005) ...</td>\n",
       "      <td>positive</td>\n",
       "    </tr>\n",
       "    <tr>\n",
       "      <th>1</th>\n",
       "      <td>I enjoyed the movie and the story immensely! I...</td>\n",
       "      <td>positive</td>\n",
       "    </tr>\n",
       "    <tr>\n",
       "      <th>2</th>\n",
       "      <td>I had a hard time sitting through this. Every ...</td>\n",
       "      <td>negative</td>\n",
       "    </tr>\n",
       "    <tr>\n",
       "      <th>3</th>\n",
       "      <td>It's hard to imagine that anyone could find th...</td>\n",
       "      <td>negative</td>\n",
       "    </tr>\n",
       "    <tr>\n",
       "      <th>4</th>\n",
       "      <td>This is one military drama I like a lot! Tom B...</td>\n",
       "      <td>positive</td>\n",
       "    </tr>\n",
       "  </tbody>\n",
       "</table>\n",
       "</div>"
      ],
      "text/plain": [
       "                                              review sentiment\n",
       "0  I first saw Jake Gyllenhaal in Jarhead (2005) ...  positive\n",
       "1  I enjoyed the movie and the story immensely! I...  positive\n",
       "2  I had a hard time sitting through this. Every ...  negative\n",
       "3  It's hard to imagine that anyone could find th...  negative\n",
       "4  This is one military drama I like a lot! Tom B...  positive"
      ]
     },
     "execution_count": 5,
     "metadata": {},
     "output_type": "execute_result"
    }
   ],
   "source": [
    "#print top 5 datapoints\n",
    "df.head(5)"
   ]
  },
  {
   "cell_type": "code",
   "execution_count": 6,
   "id": "ff9bcbaf",
   "metadata": {},
   "outputs": [],
   "source": [
    "#creating a new column \"Category\" which represent 1 if the sentiment is positive or 0 if it is negative\n",
    "df['Category']= df['sentiment'].apply(lambda x: 1 if x=='positive' else 0)"
   ]
  },
  {
   "cell_type": "code",
   "execution_count": 7,
   "id": "a8267aab",
   "metadata": {},
   "outputs": [
    {
     "data": {
      "text/html": [
       "<div>\n",
       "<style scoped>\n",
       "    .dataframe tbody tr th:only-of-type {\n",
       "        vertical-align: middle;\n",
       "    }\n",
       "\n",
       "    .dataframe tbody tr th {\n",
       "        vertical-align: top;\n",
       "    }\n",
       "\n",
       "    .dataframe thead th {\n",
       "        text-align: right;\n",
       "    }\n",
       "</style>\n",
       "<table border=\"1\" class=\"dataframe\">\n",
       "  <thead>\n",
       "    <tr style=\"text-align: right;\">\n",
       "      <th></th>\n",
       "      <th>review</th>\n",
       "      <th>sentiment</th>\n",
       "      <th>Category</th>\n",
       "    </tr>\n",
       "  </thead>\n",
       "  <tbody>\n",
       "    <tr>\n",
       "      <th>0</th>\n",
       "      <td>I first saw Jake Gyllenhaal in Jarhead (2005) ...</td>\n",
       "      <td>positive</td>\n",
       "      <td>1</td>\n",
       "    </tr>\n",
       "    <tr>\n",
       "      <th>1</th>\n",
       "      <td>I enjoyed the movie and the story immensely! I...</td>\n",
       "      <td>positive</td>\n",
       "      <td>1</td>\n",
       "    </tr>\n",
       "    <tr>\n",
       "      <th>2</th>\n",
       "      <td>I had a hard time sitting through this. Every ...</td>\n",
       "      <td>negative</td>\n",
       "      <td>0</td>\n",
       "    </tr>\n",
       "    <tr>\n",
       "      <th>3</th>\n",
       "      <td>It's hard to imagine that anyone could find th...</td>\n",
       "      <td>negative</td>\n",
       "      <td>0</td>\n",
       "    </tr>\n",
       "    <tr>\n",
       "      <th>4</th>\n",
       "      <td>This is one military drama I like a lot! Tom B...</td>\n",
       "      <td>positive</td>\n",
       "      <td>1</td>\n",
       "    </tr>\n",
       "  </tbody>\n",
       "</table>\n",
       "</div>"
      ],
      "text/plain": [
       "                                              review sentiment  Category\n",
       "0  I first saw Jake Gyllenhaal in Jarhead (2005) ...  positive         1\n",
       "1  I enjoyed the movie and the story immensely! I...  positive         1\n",
       "2  I had a hard time sitting through this. Every ...  negative         0\n",
       "3  It's hard to imagine that anyone could find th...  negative         0\n",
       "4  This is one military drama I like a lot! Tom B...  positive         1"
      ]
     },
     "execution_count": 7,
     "metadata": {},
     "output_type": "execute_result"
    }
   ],
   "source": [
    "df.head()"
   ]
  },
  {
   "cell_type": "code",
   "execution_count": 8,
   "id": "6bd70ac0",
   "metadata": {},
   "outputs": [
    {
     "data": {
      "text/plain": [
       "1    9500\n",
       "0    9500\n",
       "Name: Category, dtype: int64"
      ]
     },
     "execution_count": 8,
     "metadata": {},
     "output_type": "execute_result"
    }
   ],
   "source": [
    "#check the distribution of 'Category' and see whether the Target labels are balanced or not.\n",
    "df['Category'].value_counts()"
   ]
  },
  {
   "cell_type": "markdown",
   "id": "99ff7823",
   "metadata": {},
   "source": [
    "### Dataset is balanced"
   ]
  },
  {
   "cell_type": "code",
   "execution_count": 9,
   "id": "f5cb7ab5",
   "metadata": {},
   "outputs": [],
   "source": [
    "#Do the 'train-test' splitting with test size of 20%\n",
    "from sklearn.model_selection import train_test_split\n",
    "X_train,X_test,y_train,y_test = train_test_split(df.review,df.Category,test_size=0.2)"
   ]
  },
  {
   "cell_type": "code",
   "execution_count": 10,
   "id": "f733b40d",
   "metadata": {},
   "outputs": [
    {
     "data": {
      "text/plain": [
       "(15200,)"
      ]
     },
     "execution_count": 10,
     "metadata": {},
     "output_type": "execute_result"
    }
   ],
   "source": [
    "X_train.shape"
   ]
  },
  {
   "cell_type": "code",
   "execution_count": 12,
   "id": "5c03fd4b",
   "metadata": {},
   "outputs": [
    {
     "data": {
      "text/plain": [
       "(3800,)"
      ]
     },
     "execution_count": 12,
     "metadata": {},
     "output_type": "execute_result"
    }
   ],
   "source": [
    "X_test.shape"
   ]
  },
  {
   "cell_type": "markdown",
   "id": "8e5979d2",
   "metadata": {},
   "source": [
    "### Exercise-1\n",
    "\n",
    "using sklearn pipeline module create a classification pipeline to classify the movie review's positive or negative.\n",
    "\n",
    "#### Note:\n",
    "\n",
    "use CountVectorizer for pre-processing the text.\n",
    "\n",
    "use Random Forest as the classifier with estimators as 50 and criterion as entropy.\n",
    "\n",
    "print the classification report.\n",
    "\n",
    "#### References:\n",
    "\n",
    "https://scikit-learn.org/stable/modules/generated/sklearn.ensemble.RandomForestClassifier.html\n",
    "\n",
    "https://scikit-learn.org/stable/modules/generated/sklearn.feature_extraction.text.CountVectorizer.html"
   ]
  },
  {
   "cell_type": "code",
   "execution_count": 15,
   "id": "b15b402f",
   "metadata": {},
   "outputs": [
    {
     "name": "stdout",
     "output_type": "stream",
     "text": [
      "              precision    recall  f1-score   support\n",
      "\n",
      "           0       0.84      0.83      0.83      1915\n",
      "           1       0.83      0.84      0.83      1885\n",
      "\n",
      "    accuracy                           0.83      3800\n",
      "   macro avg       0.83      0.83      0.83      3800\n",
      "weighted avg       0.83      0.83      0.83      3800\n",
      "\n"
     ]
    }
   ],
   "source": [
    "#creating pipeline object\n",
    "\n",
    "rf = Pipeline([\n",
    "    ('Vectorizer', CountVectorizer()),\n",
    "    ('random_forest', RandomForestClassifier(n_estimators=50,criterion='entropy'))   \n",
    "])\n",
    "\n",
    "#Fit the model\n",
    "rf.fit(X_train,y_train)\n",
    "\n",
    "\n",
    "#Predict with X_test and store in y_pred\n",
    "y_pred = rf.predict(X_test)\n",
    "\n",
    "#Classification report \n",
    "print(classification_report(y_test,y_pred))"
   ]
  },
  {
   "cell_type": "markdown",
   "id": "5f8ab53c",
   "metadata": {},
   "source": [
    "Using Random Forest Classifier we got 83% as Precision,Recall and f-score"
   ]
  },
  {
   "cell_type": "markdown",
   "id": "112c6398",
   "metadata": {},
   "source": [
    "### Exercise-2\n",
    "\n",
    "using sklearn pipeline module create a classification pipeline to classify the movie review's positive or negative..\n",
    "\n",
    "#### Note:\n",
    "\n",
    "use CountVectorizer for pre-processing the text.\n",
    "\n",
    "use KNN as the classifier with n_neighbors of 10 and metric as 'euclidean'.\n",
    "\n",
    "print the classification report.\n",
    "\n",
    "#### References:\n",
    "\n",
    "https://scikit-learn.org/stable/modules/generated/sklearn.feature_extraction.text.CountVectorizer.html\n",
    "https://scikit-learn.org/stable/modules/generated/sklearn.neighbors.KNeighborsClassifier.html"
   ]
  },
  {
   "cell_type": "code",
   "execution_count": 17,
   "id": "9adceaf7",
   "metadata": {},
   "outputs": [
    {
     "name": "stdout",
     "output_type": "stream",
     "text": [
      "              precision    recall  f1-score   support\n",
      "\n",
      "           0       0.65      0.66      0.66      1915\n",
      "           1       0.65      0.64      0.64      1885\n",
      "\n",
      "    accuracy                           0.65      3800\n",
      "   macro avg       0.65      0.65      0.65      3800\n",
      "weighted avg       0.65      0.65      0.65      3800\n",
      "\n"
     ]
    },
    {
     "name": "stderr",
     "output_type": "stream",
     "text": [
      "C:\\Users\\SanthanaLakshmi\\anaconda3\\lib\\site-packages\\sklearn\\neighbors\\_classification.py:228: FutureWarning: Unlike other reduction functions (e.g. `skew`, `kurtosis`), the default behavior of `mode` typically preserves the axis it acts along. In SciPy 1.11.0, this behavior will change: the default value of `keepdims` will become False, the `axis` over which the statistic is taken will be eliminated, and the value None will no longer be accepted. Set `keepdims` to True or False to avoid this warning.\n",
      "  mode, _ = stats.mode(_y[neigh_ind, k], axis=1)\n"
     ]
    }
   ],
   "source": [
    "#creating pipeline object\n",
    "\n",
    "knn = Pipeline([\n",
    "    ('Vectorizer', CountVectorizer()),\n",
    "    ('KNeiboursClassifier', KNeighborsClassifier(n_neighbors=10,metric='euclidean'))   \n",
    "])\n",
    "\n",
    "#Fit the model\n",
    "knn.fit(X_train,y_train)\n",
    "\n",
    "\n",
    "#Predict with X_test and store in y_pred\n",
    "y_pred = knn.predict(X_test)\n",
    "\n",
    "#Classification report \n",
    "print(classification_report(y_test,y_pred))"
   ]
  },
  {
   "cell_type": "markdown",
   "id": "79e1b4a9",
   "metadata": {},
   "source": [
    "Using KNN we got as Precision,Recall and f-score score seems to avearge 65% which is lower."
   ]
  },
  {
   "cell_type": "markdown",
   "id": "99926580",
   "metadata": {},
   "source": [
    "### Exercise-3\n",
    "\n",
    "using sklearn pipeline module create a classification pipeline to classify the movie review's positive or negative..\n",
    "\n",
    "#### Note:\n",
    "\n",
    "use CountVectorizer for pre-processing the text.\n",
    "\n",
    "use Multinomial Naive Bayes as the classifier.\n",
    "\n",
    "print the classification report.\n",
    "\n",
    "#### References:\n",
    "\n",
    "https://scikit-learn.org/stable/modules/generated/sklearn.feature_extraction.text.CountVectorizer.html\n",
    "https://scikit-learn.org/stable/modules/generated/sklearn.naive_bayes.MultinomialNB.html"
   ]
  },
  {
   "cell_type": "code",
   "execution_count": 18,
   "id": "ae0a8a2d",
   "metadata": {},
   "outputs": [
    {
     "name": "stdout",
     "output_type": "stream",
     "text": [
      "              precision    recall  f1-score   support\n",
      "\n",
      "           0       0.84      0.87      0.85      1915\n",
      "           1       0.86      0.83      0.84      1885\n",
      "\n",
      "    accuracy                           0.85      3800\n",
      "   macro avg       0.85      0.85      0.85      3800\n",
      "weighted avg       0.85      0.85      0.85      3800\n",
      "\n"
     ]
    }
   ],
   "source": [
    "#creating pipeline object\n",
    "\n",
    "mnb = Pipeline([\n",
    "    ('Vectorizer', CountVectorizer()),\n",
    "    ('multiN_naive_bayes', MultinomialNB())   \n",
    "])\n",
    "\n",
    "#Fit the model\n",
    "mnb.fit(X_train,y_train)\n",
    "\n",
    "\n",
    "#Predict with X_test and store in y_pred\n",
    "y_pred = mnb.predict(X_test)\n",
    "\n",
    "#Classification report \n",
    "print(classification_report(y_test,y_pred))"
   ]
  },
  {
   "cell_type": "markdown",
   "id": "0b78f90b",
   "metadata": {},
   "source": [
    "Using MultiNomial Naives Bayes  we got as more than 85% Precision,Recall and f-score for both Positive and Negative Reviews. This algorithm seems to be the best fit.\n"
   ]
  },
  {
   "cell_type": "markdown",
   "id": "780aea50",
   "metadata": {},
   "source": [
    "### Can you write some observations of why model like KNN fails to produce good results unlike RandomForest and MultinomialNB?"
   ]
  },
  {
   "cell_type": "markdown",
   "id": "5bb4eadb",
   "metadata": {},
   "source": [
    "\n",
    "There are several observations of why KNN may fail to produce good results for NLP text classification compared to RandomForest and MultinomialNB:\n",
    "\n",
    "KNN's performance decreases with high-dimensional data: NLP datasets often have a large number of features or dimensions, which can lead to the \"curse of dimensionality.\" KNN's performance can suffer from this curse since the algorithm calculates distances between points, which becomes increasingly difficult as the number of dimensions increases.\n",
    "\n",
    "KNN is sensitive to irrelevant features: In NLP, many features may not be relevant for classification tasks. KNN may not be able to distinguish between relevant and irrelevant features, leading to poor performance.\n",
    "\n",
    "KNN relies on a distance metric: KNN calculates distances between data points to determine similarity, but not all distance metrics are appropriate for NLP. For example, Euclidean distance may not be effective for text data, which is often sparse and high-dimensional.\n",
    "\n",
    "KNN requires labeled data: KNN is a supervised learning algorithm and requires labeled data for training. NLP datasets can be expensive and time-consuming to label, which may limit the amount of training data available for KNN."
   ]
  },
  {
   "cell_type": "code",
   "execution_count": null,
   "id": "51ac9763",
   "metadata": {},
   "outputs": [],
   "source": []
  }
 ],
 "metadata": {
  "kernelspec": {
   "display_name": "Python 3 (ipykernel)",
   "language": "python",
   "name": "python3"
  },
  "language_info": {
   "codemirror_mode": {
    "name": "ipython",
    "version": 3
   },
   "file_extension": ".py",
   "mimetype": "text/x-python",
   "name": "python",
   "nbconvert_exporter": "python",
   "pygments_lexer": "ipython3",
   "version": "3.9.13"
  }
 },
 "nbformat": 4,
 "nbformat_minor": 5
}
